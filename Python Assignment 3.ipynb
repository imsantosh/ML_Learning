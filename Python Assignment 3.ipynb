{
 "cells": [
  {
   "cell_type": "markdown",
   "metadata": {},
   "source": [
    "1.1 Write a Python Program to implement your own myreduce() function which works exactly like Python's built-in function reduce() \n"
   ]
  },
  {
   "cell_type": "markdown",
   "metadata": {},
   "source": [
    "1.2 Write a Python program to implement your own myfilter() function which works exactly like Python's built-in function filter() "
   ]
  },
  {
   "cell_type": "code",
   "execution_count": 18,
   "metadata": {},
   "outputs": [
    {
     "name": "stdout",
     "output_type": "stream",
     "text": [
      "Multiple of the numbers without initial values: 120\n",
      "Multiple of the numbers with initial values: 1200\n",
      "Sum of the numbers without initial values: 15\n"
     ]
    }
   ],
   "source": [
    "#Answer number 1.1:\n",
    "\n",
    "#defining the function which task i want to perform, in this case multiple    \n",
    "def multipleAllNumbers(x, y):\n",
    "   return x*y\n",
    "    \n",
    "def sumAllNumbers(x, y):\n",
    "    return x+y\n",
    "    \n",
    "#defining the our own reduce function\n",
    "def myreduce(function, iterable, initializer=None):\n",
    "    it = iter(iterable)\n",
    "    if initializer is None:\n",
    "        try:\n",
    "            initializer = next(it)\n",
    "        except StopIteration:\n",
    "            raise TypeError('myreduce() of empty sequence with no initial value')\n",
    "    accum_value = initializer\n",
    "    for x in it:\n",
    "        accum_value = function(accum_value, x)\n",
    "    return accum_value\n",
    "    \n",
    "        \n",
    "lst= [1,2,3,4,5]\n",
    "print(\"Multiple of the numbers without initial values: \"+ str(myreduce(multipleAllNumbers, lst)))\n",
    "print(\"Multiple of the numbers with initial values: \"+ str(myreduce(multipleAllNumbers, lst, 10)))\n",
    "print(\"Sum of the numbers without initial values: \"+ str(myreduce(sumAllNumbers, lst)))"
   ]
  },
  {
   "cell_type": "code",
   "execution_count": 33,
   "metadata": {},
   "outputs": [
    {
     "name": "stdout",
     "output_type": "stream",
     "text": [
      "List of odd numbers: [1, 3, 5, 15]\n",
      "List of even numbers: [2, 4, 6, 8, 10, 12, 14]\n"
     ]
    }
   ],
   "source": [
    "#Answer number 1.2:\n",
    "\n",
    "#defining the function for which I want to perform some task, in this case multiple   \n",
    "\n",
    "def even(x):\n",
    "    return x%2 == 0\n",
    "\n",
    "def odd(x):\n",
    "    return x%2 !=0\n",
    "\n",
    "def myFilter(func, iterable):\n",
    "    filtered_lst = []\n",
    "    it = iter(iterable)\n",
    "    for x in it:\n",
    "        result = func(x)\n",
    "        if result:\n",
    "            filtered_lst.append(x)\n",
    "    return filtered_lst\n",
    "\n",
    "lst = [1,2,3,4,5,6,8,10,12,14,15]\n",
    "flt_opt= myFilter(odd, lst)\n",
    "print(\"List of odd numbers: \"+ str(flt_opt))\n",
    "\n",
    "flt_opt= myFilter(even, lst)\n",
    "print(\"List of even numbers: \"+ str(flt_opt))\n",
    "\n",
    "\n",
    "\n",
    "\n"
   ]
  },
  {
   "cell_type": "markdown",
   "metadata": {},
   "source": [
    "2. Implement List comprehensions to produce the following lists. Write List comprehensions to produce the following Lists\n",
    "\n",
    "\n",
    "['A', 'C', 'A', 'D', 'G', 'I', ’L’, ‘ D’]\n",
    "\n",
    "['x', 'xx', 'xxx', 'xxxx', 'y', 'yy', 'yyy', 'yyyy', 'z', 'zz', 'zzz', 'zzzz']\n",
    "\n",
    "['x', 'y', 'z', 'xx', 'yy', 'zz', 'xxx', 'yyy', 'zzz', 'xxxx', 'yyyy', 'zzzz']\n",
    "\n",
    "[[2], [3], [4], [3], [4], [5], [4], [5], [6]] \n",
    "\n",
    "\n",
    "[[2, 3, 4, 5], [3, 4, 5, 6],[4, 5, 6, 7], [5, 6, 7, 8]]\n",
    "\n",
    "[(1, 1), (2, 1), (3, 1), (1, 2), (2, 2), (3, 2), (1, 3), (2, 3), (3, 3)]\n"
   ]
  },
  {
   "cell_type": "code",
   "execution_count": 52,
   "metadata": {},
   "outputs": [
    {
     "name": "stdout",
     "output_type": "stream",
     "text": [
      "['A', 'C', 'A', 'D', 'G', 'I', 'L', 'D']\n",
      "['x', 'xx', 'xxx', 'xxxx', 'y', 'yy', 'yyy', 'yyyy', 'z', 'zz', 'zzz', 'zzzz']\n",
      "['x', 'y', 'z', 'xx', 'yy', 'zz', 'xxx', 'yyy', 'zzz', 'xxxx', 'yyyy', 'zzzz']\n",
      "[[2], [3], [4], [3], [4], [5], [4], [5], [6]]\n",
      "[[2, 3, 4, 5], [3, 4, 5, 6], [4, 5, 6, 7], [5, 6, 7, 8]]\n",
      "[(1, 1), (2, 1), (3, 1), (1, 2), (2, 2), (3, 2), (1, 3), (2, 3), (3, 3)]\n"
     ]
    }
   ],
   "source": [
    "#Answer number 2:\n",
    "\n",
    "# list comprehensions for this ['A', 'C', 'A', 'D', 'G', 'I', ’L’, ‘ D’]\n",
    "lst= ['A', 'C', 'A', 'D', 'G', 'I', 'L', 'D']\n",
    "lst_comp= [i for i in lst]\n",
    "print(lst_comp)\n",
    "\n",
    "\n",
    "# list comprehensions for this ['x', 'xx', 'xxx', 'xxxx', 'y', 'yy', 'yyy', 'yyyy', 'z', 'zz', 'zzz', 'zzzz']\n",
    "xyz = ['x', 'y', 'z']\n",
    "lst_xyz_comp = [i*j for j in xyz for i in range(1,5)]\n",
    "print(lst_xyz_comp)\n",
    "\n",
    "\n",
    "# list comprehensions for this ['x', 'y', 'z', 'xx', 'yy', 'zz', 'xxx', 'yyy', 'zzz', 'xxxx', 'yyyy', 'zzzz']\n",
    "lst_xyz_comp2 = [i*j for i in range(1,5) for j in xyz ]\n",
    "print(lst_xyz_comp2)\n",
    "\n",
    "\n",
    "# list comprehensions for this[[2], [3], [4], [3], [4], [5], [4], [5], [6]]\n",
    "lst_comp234 = [[i+j] for i in range(1,4) for j in range(1,4)]\n",
    "print(lst_comp234)\n",
    "\n",
    "\n",
    "# list comprehensions for this [[2, 3, 4, 5], [3, 4, 5, 6],[4, 5, 6, 7], [5, 6, 7, 8]]\n",
    "lst_comp_2345 = [[i+j for i in range(1,5)] for j in range(1,5)]\n",
    "print(lst_comp_2345)\n",
    "\n",
    "\n",
    "# list comprehensions for this [(1, 1), (2, 1), (3, 1), (1, 2), (2, 2), (3, 2), (1, 3), (2, 3), (3, 3)]\n",
    "lst_comp_123= [(j, i) for i in range(1,4) for j in range(1,4)]\n",
    "print(lst_comp_123)\n",
    "\n",
    "\n",
    "\n",
    "\n"
   ]
  },
  {
   "cell_type": "markdown",
   "metadata": {},
   "source": [
    "## Please review it and provide your feedback and suggestion"
   ]
  }
 ],
 "metadata": {
  "kernelspec": {
   "display_name": "Python 3",
   "language": "python",
   "name": "python3"
  },
  "language_info": {
   "codemirror_mode": {
    "name": "ipython",
    "version": 3
   },
   "file_extension": ".py",
   "mimetype": "text/x-python",
   "name": "python",
   "nbconvert_exporter": "python",
   "pygments_lexer": "ipython3",
   "version": "3.7.0"
  }
 },
 "nbformat": 4,
 "nbformat_minor": 2
}
