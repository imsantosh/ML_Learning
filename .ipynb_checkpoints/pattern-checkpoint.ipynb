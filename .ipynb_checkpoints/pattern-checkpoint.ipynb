{
 "cells": [
  {
   "cell_type": "code",
   "execution_count": 25,
   "metadata": {},
   "outputs": [
    {
     "name": "stdout",
     "output_type": "stream",
     "text": [
      "*  *  *  *  *  \r\n",
      "*  *  *  *  \r\n",
      "*  *  *  \r\n",
      "*  *  \r\n",
      "*  \r\n",
      "*  *  \r\n",
      "*  *  *  \r\n",
      "*  *  *  *  \r\n",
      "*  *  *  *  *  \r\n"
     ]
    }
   ],
   "source": [
    "\n",
    "for i in range(-5, 5):\n",
    "    if(i<0):\n",
    "        counter = 1\n",
    "        for j in range(i, 0):\n",
    "            if (counter > 0):\n",
    "                for z in range(i, j):\n",
    "                    print('')\n",
    "                counter = 0    \n",
    "            print('* ', end=\" \")\n",
    "        print(\"\\r\")     \n",
    "    elif(i > 0):\n",
    "        counter = 1\n",
    "        for j in range(0, i+1):\n",
    "            if (counter > 0):\n",
    "                for z in range(0, j):\n",
    "                     print('')\n",
    "                counter = 0        \n",
    "            print('* ', end=\" \")\n",
    "        print(\"\\r\")\n",
    "        "
   ]
  },
  {
   "cell_type": "code",
   "execution_count": 40,
   "metadata": {},
   "outputs": [
    {
     "name": "stdout",
     "output_type": "stream",
     "text": [
      "     * \r\n",
      "    * * \r\n",
      "   * * * \r\n",
      "  * * * * \r\n",
      " * * * * * \r\n"
     ]
    }
   ],
   "source": [
    "for i in range(0, 5):\n",
    "    for j in range(0, (5 - i)):\n",
    "        print(\"\", end=' ')\n",
    "    for z in range(0, i+1):\n",
    "            print('*', end=\" \")\n",
    "    print(\"\\r\")    "
   ]
  },
  {
   "cell_type": "code",
   "execution_count": 64,
   "metadata": {},
   "outputs": [
    {
     "name": "stdout",
     "output_type": "stream",
     "text": [
      "* * * * * * * * * * \r\n",
      " * * * * * * * * * \r\n",
      "  * * * * * * * * \r\n",
      "   * * * * * * * \r\n",
      "    * * * * * * \r\n",
      "     * * * * * \r\n",
      "      * * * * \r\n",
      "       * * * \r\n",
      "        * * \r\n",
      "         * \r\n",
      "        * * \r\n",
      "       * * * \r\n",
      "      * * * * \r\n",
      "     * * * * * \r\n",
      "    * * * * * * \r\n",
      "   * * * * * * * \r\n",
      "  * * * * * * * * \r\n",
      " * * * * * * * * * \r\n",
      "* * * * * * * * * * \r\n"
     ]
    }
   ],
   "source": [
    " for i in range(-10, 10):\n",
    "    if(i < 0):\n",
    "        for j in range(0, 10 + i):\n",
    "            print(\"\", end=' ')    \n",
    "        for z in range(i, 0):\n",
    "            print('*', end=\" \") \n",
    "        print(\"\\r\")     \n",
    "    elif(i > 0):\n",
    "        for j in range(0, (9-i)):\n",
    "            print(\"\", end=' ')    \n",
    "        for z in range(0,i+1):\n",
    "            print('*', end=\" \") \n",
    "        print(\"\\r\") "
   ]
  },
  {
   "cell_type": "code",
   "execution_count": 101,
   "metadata": {},
   "outputs": [
    {
     "name": "stdout",
     "output_type": "stream",
     "text": [
      "*****\r\n",
      " ****\r\n",
      "  ***\r\n",
      "   **\r\n",
      "    *\r\n",
      "   **\r\n",
      "  ***\r\n",
      " ****\r\n",
      "*****\r\n"
     ]
    }
   ],
   "source": [
    "for i in range(-5, 6):\n",
    "    if i<0:\n",
    "        for j in range(0, 5+i):\n",
    "             print(\" \", end='')\n",
    "        for z in range(i, 0):\n",
    "            print('*', end='') \n",
    "        print(\"\\r\")\n",
    "    elif(i>1):\n",
    "        for j in range(0,5-i ):\n",
    "             print(\" \", end='')\n",
    "        for z in range(0, i):\n",
    "            print('*', end='') \n",
    "        print(\"\\r\")\n",
    "        \n",
    "            \n"
   ]
  },
  {
   "cell_type": "code",
   "execution_count": null,
   "metadata": {},
   "outputs": [],
   "source": []
  }
 ],
 "metadata": {
  "kernelspec": {
   "display_name": "Python 3",
   "language": "python",
   "name": "python3"
  },
  "language_info": {
   "codemirror_mode": {
    "name": "ipython",
    "version": 3
   },
   "file_extension": ".py",
   "mimetype": "text/x-python",
   "name": "python",
   "nbconvert_exporter": "python",
   "pygments_lexer": "ipython3",
   "version": "3.7.0"
  }
 },
 "nbformat": 4,
 "nbformat_minor": 2
}
