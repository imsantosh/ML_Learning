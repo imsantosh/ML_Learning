{
 "cells": [
  {
   "cell_type": "markdown",
   "metadata": {},
   "source": [
    "@author Santosh Singh, 16th May 2020"
   ]
  },
  {
   "cell_type": "markdown",
   "metadata": {},
   "source": [
    "Question 1: Write a program which will find all such numbers which are divisible by 7 but are not a multiple of 5, between 2000 and 3200 (both included). The numbers obtained should be printed in a comma-separated sequence on a single line."
   ]
  },
  {
   "cell_type": "code",
   "execution_count": 10,
   "metadata": {},
   "outputs": [
    {
     "name": "stdout",
     "output_type": "stream",
     "text": [
      "[2002, 2009, 2016, 2023, 2037, 2044, 2051, 2058, 2072, 2079, 2086, 2093, 2107, 2114, 2121, 2128, 2142, 2149, 2156, 2163, 2177, 2184, 2191, 2198, 2212, 2219, 2226, 2233, 2247, 2254, 2261, 2268, 2282, 2289, 2296, 2303, 2317, 2324, 2331, 2338, 2352, 2359, 2366, 2373, 2387, 2394, 2401, 2408, 2422, 2429, 2436, 2443, 2457, 2464, 2471, 2478, 2492, 2499, 2506, 2513, 2527, 2534, 2541, 2548, 2562, 2569, 2576, 2583, 2597, 2604, 2611, 2618, 2632, 2639, 2646, 2653, 2667, 2674, 2681, 2688, 2702, 2709, 2716, 2723, 2737, 2744, 2751, 2758, 2772, 2779, 2786, 2793, 2807, 2814, 2821, 2828, 2842, 2849, 2856, 2863, 2877, 2884, 2891, 2898, 2912, 2919, 2926, 2933, 2947, 2954, 2961, 2968, 2982, 2989, 2996, 3003, 3017, 3024, 3031, 3038, 3052, 3059, 3066, 3073, 3087, 3094, 3101, 3108, 3122, 3129, 3136, 3143, 3157, 3164, 3171, 3178, 3192, 3199]\n"
     ]
    }
   ],
   "source": [
    "# answer for question 1\n",
    "\n",
    "#creating a empty list to store numbers divisal by 7 but a mutiple of 5\n",
    "numbers = []\n",
    "\n",
    "# defining range(provided 2000 & 3201 to include both into the range)\n",
    "for number in range(2000, 3201):\n",
    "    \n",
    "    #checking if the number is divisible by 7 or not\n",
    "    if ((number % 7) == 0):\n",
    "        \n",
    "        #checkin if the number is mutiple of 5 or not\n",
    "        if ( (number % 5) != 0):\n",
    "            numbers.append(number)\n",
    "\n",
    "#priting all the obtained numbers in a sigle line with comma-separated sequence            \n",
    "print(numbers)        \n",
    "    "
   ]
  },
  {
   "cell_type": "code",
   "execution_count": null,
   "metadata": {},
   "outputs": [],
   "source": []
  },
  {
   "cell_type": "markdown",
   "metadata": {},
   "source": [
    "Question 2. Write a Python program to accept the user's first and last name and then getting them printed in the the reverse order with a space between first name and last name. \n",
    "\n",
    "Note: as per my under standing of the question suppose my name is Santosh Singh then o/p should be \"hsotnas hgnis\"\n",
    "based on this I have written the code below\n",
    "\n"
   ]
  },
  {
   "cell_type": "code",
   "execution_count": 11,
   "metadata": {},
   "outputs": [
    {
     "name": "stdout",
     "output_type": "stream",
     "text": [
      "Please enter your first name !! Santosh\n",
      "Please enter your last/surname name !! Singh\n",
      "hsotnaS hgniS\n"
     ]
    }
   ],
   "source": [
    "# answer for question 2\n",
    "\n",
    "# Accepting first $ last name \n",
    "firstName = input(\"Please enter your first name !! \")\n",
    "lastName = input(\"Please enter your last/surname name !! \")\n",
    "\n",
    "#Rversing first and last name\n",
    "firstName = firstName[::-1]\n",
    "lastName = lastName[::-1]\n",
    "\n",
    "#printing first and last name in reverse order, seprated by space\n",
    "print(firstName,lastName)\n",
    "\n",
    "\n",
    "\n",
    "\n",
    "\n"
   ]
  },
  {
   "cell_type": "markdown",
   "metadata": {},
   "source": [
    "Question 3. Write a Python program to find the volume of a sphere with diameter 12 cm. \n",
    "Formula: V=4/3 * π * r 3 "
   ]
  },
  {
   "cell_type": "code",
   "execution_count": 12,
   "metadata": {},
   "outputs": [
    {
     "name": "stdout",
     "output_type": "stream",
     "text": [
      "Volume of the sphere with diameter 12cm will be  904.78 \n"
     ]
    }
   ],
   "source": [
    "# answer for question 3\n",
    "\n",
    "#importing math package to use math.pi for the value of PI\n",
    "import math\n",
    "\n",
    "#radius of the sphere\n",
    "radiusOfSphere= diameter / 2\n",
    "\n",
    "#calculating the volume of sphere\n",
    "volume=(4/3)*(math.pi)*pow(radiusOfSphere,3)\n",
    "\n",
    "#now printing the output \n",
    "\n",
    "print(\"Volume of the sphere with diameter 12cm will be  %.2f \" %volume)\n",
    "\n"
   ]
  },
  {
   "cell_type": "markdown",
   "metadata": {},
   "source": [
    "**************Please evaluate and provide your feedback and area of improvements, Thank you******************"
   ]
  }
 ],
 "metadata": {
  "kernelspec": {
   "display_name": "Python 3",
   "language": "python",
   "name": "python3"
  },
  "language_info": {
   "codemirror_mode": {
    "name": "ipython",
    "version": 3
   },
   "file_extension": ".py",
   "mimetype": "text/x-python",
   "name": "python",
   "nbconvert_exporter": "python",
   "pygments_lexer": "ipython3",
   "version": "3.7.0"
  }
 },
 "nbformat": 4,
 "nbformat_minor": 2
}
