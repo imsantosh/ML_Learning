{
 "cells": [
  {
   "cell_type": "markdown",
   "metadata": {},
   "source": [
    "@author Santosh Singh 16th May 2020\n"
   ]
  },
  {
   "cell_type": "markdown",
   "metadata": {},
   "source": [
    "1. Create the below pattern using nested for loop in Python. \n",
    "\n",
    "*\n",
    "**\n",
    "***\n",
    "****\n",
    "*****\n",
    "****\n",
    "***\n",
    "**\n",
    "*\n"
   ]
  },
  {
   "cell_type": "code",
   "execution_count": 14,
   "metadata": {},
   "outputs": [
    {
     "name": "stdout",
     "output_type": "stream",
     "text": [
      "\n",
      "\n",
      "* \n",
      "\n",
      "* * \n",
      "\n",
      "* * * \n",
      "\n",
      "* * * * \n",
      "\n",
      "* * * * * \n",
      "\n",
      "* * * * \n",
      "\n",
      "* * * \n",
      "\n",
      "* * \n",
      "\n",
      "* \n",
      "\n"
     ]
    }
   ],
   "source": [
    "#answer for question 1\n",
    "\n",
    "\n",
    "def pattern(n):\n",
    "    \n",
    "    #defining range in this case (-5 to 5) for upper and lower part from the middle line \n",
    "    for i in range(-n,n):\n",
    "        if(i<=0):\n",
    "            \n",
    "            # To print the upper & middle line of the pattern\n",
    "            for j in range(0, n + i):\n",
    "                print('*', end=\" \")\n",
    "            print(\"\\n\")    \n",
    "        elif(i > 0):\n",
    "            # To print the lower part of the pattern\n",
    "            for j in range(0, n - i):\n",
    "                print('*', end=\" \")\n",
    "            print(\"\\n\")  \n",
    "        \n",
    "        \n",
    "pattern(5)        \n",
    "                       \n",
    "                       \n",
    "        "
   ]
  },
  {
   "cell_type": "markdown",
   "metadata": {},
   "source": [
    "Question 2. Write a Python program to reverse a word after accepting the input from the user. \n"
   ]
  },
  {
   "cell_type": "code",
   "execution_count": 2,
   "metadata": {},
   "outputs": [
    {
     "name": "stdout",
     "output_type": "stream",
     "text": [
      "Please enter a word which you like to reverse: santosh\n",
      "hsotnas\n"
     ]
    }
   ],
   "source": [
    "# Answer for question 2\n",
    "\n",
    "# accepting the word from user.\n",
    "inputFromUser = input(\"Please enter a word which you like to reverse: \")\n",
    "\n",
    "#reversing the word\n",
    "inputFromUser = inputFromUser[::-1]\n",
    "\n",
    "#Printing the reversed word...\n",
    "print(inputFromUser)"
   ]
  }
 ],
 "metadata": {
  "kernelspec": {
   "display_name": "Python 3",
   "language": "python",
   "name": "python3"
  },
  "language_info": {
   "codemirror_mode": {
    "name": "ipython",
    "version": 3
   },
   "file_extension": ".py",
   "mimetype": "text/x-python",
   "name": "python",
   "nbconvert_exporter": "python",
   "pygments_lexer": "ipython3",
   "version": "3.7.0"
  }
 },
 "nbformat": 4,
 "nbformat_minor": 2
}
